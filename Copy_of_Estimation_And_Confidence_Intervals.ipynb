{
  "nbformat": 4,
  "nbformat_minor": 0,
  "metadata": {
    "colab": {
      "provenance": [],
      "authorship_tag": "ABX9TyMgMC4TP3/PrFcRQRYPu5CF",
      "include_colab_link": true
    },
    "kernelspec": {
      "name": "python3",
      "display_name": "Python 3"
    },
    "language_info": {
      "name": "python"
    }
  },
  "cells": [
    {
      "cell_type": "markdown",
      "metadata": {
        "id": "view-in-github",
        "colab_type": "text"
      },
      "source": [
        "<a href=\"https://colab.research.google.com/github/Saimani5454/Basics_stats/blob/main/Copy_of_Estimation_And_Confidence_Intervals.ipynb\" target=\"_parent\"><img src=\"https://colab.research.google.com/assets/colab-badge.svg\" alt=\"Open In Colab\"/></a>"
      ]
    },
    {
      "cell_type": "code",
      "execution_count": 1,
      "metadata": {
        "colab": {
          "base_uri": "https://localhost:8080/"
        },
        "id": "rnl_tFqOUWHy",
        "outputId": "04eb9e5e-eb88-49e0-e105-e194c12129e5"
      },
      "outputs": [
        {
          "output_type": "stream",
          "name": "stdout",
          "text": [
            "Sample Mean: 1.2387\n",
            "Sample Standard Deviation: 0.1932\n",
            "Degrees of Freedom: 14\n",
            "T-score: 2.9768\n",
            "Margin of Error: 0.1485\n",
            "99% Confidence Interval: (1.0902, 1.3871)\n",
            " 1.0902 and 1.3871 million characters.\n"
          ]
        }
      ],
      "source": [
        "#Estimation And Confidenence Intervals\n",
        "# prompt: A total of 15 print-heads were randomly selected and tested until failure. The durability of each print-head (in millions of characters) was recorded as follows:\n",
        "# 1.13, 1.55, 1.43, 0.92, 1.25, 1.36, 1.32, 0.85, 1.07, 1.48, 1.20, 1.33, 1.18, 1.22, 1.29\n",
        "# a. Build 99% Confidence Interval Using Sample Standard Deviation\n",
        "# Assuming the sample is representative of the population, construct a 99% confidence interval for the mean number of characters printed before the print-head fails using the sample standard deviation. Explain the steps you take and the rationale behind using the t-distribution for this task.\n",
        "\n",
        "import numpy as np\n",
        "from scipy import stats\n",
        "\n",
        "# Given data\n",
        "durability = np.array([1.13, 1.55, 1.43, 0.92, 1.25, 1.36, 1.32, 0.85, 1.07, 1.48, 1.20, 1.33, 1.18, 1.22, 1.29])\n",
        "\n",
        "# Sample size\n",
        "n = len(durability)\n",
        "\n",
        "# Sample mean\n",
        "sample_mean = np.mean(durability)\n",
        "\n",
        "# Sample standard deviation\n",
        "sample_std = np.std(durability, ddof=1) # ddof=1 for sample standard deviation\n",
        "\n",
        "# Degrees of freedom\n",
        "df = n - 1\n",
        "\n",
        "# Confidence level\n",
        "confidence_level = 0.99\n",
        "\n",
        "# Alpha (significance level)\n",
        "alpha = 1 - confidence_level\n",
        "\n",
        "# T-score for a two-tailed interval\n",
        "t_score = stats.t.ppf(1 - alpha/2, df)\n",
        "\n",
        "# Margin of error\n",
        "margin_of_error = t_score * (sample_std / np.sqrt(n))\n",
        "\n",
        "# Confidence interval\n",
        "confidence_interval_lower = sample_mean - margin_of_error\n",
        "confidence_interval_upper = sample_mean + margin_of_error\n",
        "\n",
        "print(f\"Sample Mean: {sample_mean:.4f}\")\n",
        "print(f\"Sample Standard Deviation: {sample_std:.4f}\")\n",
        "print(f\"Degrees of Freedom: {df}\")\n",
        "print(f\"T-score: {t_score:.4f}\")\n",
        "print(f\"Margin of Error: {margin_of_error:.4f}\")\n",
        "print(f\"99% Confidence Interval: ({confidence_interval_lower:.4f}, {confidence_interval_upper:.4f})\")\n",
        "\n",
        "\n",
        "print(f\" {confidence_interval_lower:.4f} and {confidence_interval_upper:.4f} million characters.\")\n"
      ]
    },
    {
      "cell_type": "code",
      "source": [
        "# prompt: . Build 99% Confidence Interval Using Known Population Standard Deviation\n",
        "# If it were known that the population standard deviation is 0.2 million characters, construct a 99% confidence interval for the mean number of characters printed before failure.\n",
        "# with the same data from the above data\n",
        "\n",
        "import numpy as np\n",
        "# Known population standard deviation\n",
        "population_std = 0.2\n",
        "\n",
        "# Z-score for a 99% confidence level (two-tailed)\n",
        "# We use the standard normal distribution (z-distribution) because the population standard deviation is known.\n",
        "z_score = stats.norm.ppf(1 - alpha/2)\n",
        "\n",
        "# Margin of error using the known population standard deviation\n",
        "margin_of_error_known_std = z_score * (population_std / np.sqrt(n))\n",
        "\n",
        "# Confidence interval using the known population standard deviation\n",
        "confidence_interval_lower_known_std = sample_mean - margin_of_error_known_std\n",
        "confidence_interval_upper_known_std = sample_mean + margin_of_error_known_std\n",
        "\n",
        "print(\"\\nConfidence Interval with Known Population Standard Deviation:\")\n",
        "print(f\"Known Population Standard Deviation: {population_std}\")\n",
        "print(f\"Z-score: {z_score:.4f}\")\n",
        "print(f\"Margin of Error (Known Std): {margin_of_error_known_std:.4f}\")\n",
        "print(f\"99% Confidence Interval (Known Std): ({confidence_interval_lower_known_std:.4f}, {confidence_interval_upper_known_std:.4f})\")\n",
        "\n",
        "print(f\" {confidence_interval_lower_known_std:.4f} and {confidence_interval_upper_known_std:.4f}\")\n"
      ],
      "metadata": {
        "colab": {
          "base_uri": "https://localhost:8080/"
        },
        "id": "CKpMv49yVJut",
        "outputId": "ac2f0523-bb17-43b6-e330-bee2c1eefba9"
      },
      "execution_count": 2,
      "outputs": [
        {
          "output_type": "stream",
          "name": "stdout",
          "text": [
            "\n",
            "Confidence Interval with Known Population Standard Deviation:\n",
            "Known Population Standard Deviation: 0.2\n",
            "Z-score: 2.5758\n",
            "Margin of Error (Known Std): 0.1330\n",
            "99% Confidence Interval (Known Std): (1.1057, 1.3717)\n",
            " 1.1057 and 1.3717\n"
          ]
        }
      ]
    }
  ]
}